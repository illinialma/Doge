{
 "cells": [
  {
   "cell_type": "code",
   "execution_count": 306,
   "metadata": {},
   "outputs": [],
   "source": [
    "import numpy as np\n",
    "from scanf import scanf\n",
    "from datetime import datetime, timedelta\n",
    "from sklearn.neighbors import KNeighborsClassifier\n",
    "from sklearn.model_selection import train_test_split\n",
    "from sklearn.metrics import confusion_matrix, ConfusionMatrixDisplay"
   ]
  },
  {
   "cell_type": "code",
   "execution_count": 119,
   "metadata": {},
   "outputs": [],
   "source": [
    "'''\n",
    "NOTE: This method is specifically for the OpenBCI input format.\n",
    "\n",
    "path: full path of data file\n",
    "granularity: keep every x data points\n",
    "channels: array of channels to keep (zero-indexed)\n",
    "dataLimit: keep up to the xth data point total\n",
    "'''\n",
    "def getData(path, granularity, channels, dataLimit):\n",
    "\tdataRaw = []\n",
    "\tdataStartLine = 6\n",
    "\tcount = 0\n",
    "\twith open(path, 'r') as data_file:\n",
    "\t\tfor line in data_file:\n",
    "\t\t\tif count >= dataStartLine:\n",
    "\t\t\t\t\tdataRaw.append(line.strip().split(','))\n",
    "\t\t\telse:\n",
    "\t\t\t\t\tcount += 1\n",
    "\tdataRaw = np.char.strip(np.array(dataRaw))\n",
    "\n",
    "\tdataChannels = dataRaw[:, 1:5]\n",
    "\ttimeChannels = dataRaw[:, 15]\n",
    "\n",
    "\tif granularity is None:\n",
    "\t\tgranularity = 1\n",
    "\t# the current channel of data\n",
    "\tif dataLimit is None:\n",
    "\t\tdataLimit = len(dataChannels)\n",
    "\n",
    "\tchannelData = dataChannels[:,channels][:dataLimit:granularity].transpose()\n",
    "\ty_channels = channelData.astype(float)\n",
    "\tinds = np.arange(channelData.shape[1])\n",
    "\tt = np.array([datetime.strptime(time[11:],'%H:%M:%S.%f') for time in timeChannels])\n",
    "\treturn y_channels,inds,t"
   ]
  },
  {
   "cell_type": "code",
   "execution_count": 258,
   "metadata": {},
   "outputs": [],
   "source": [
    "'''\n",
    "This groups each data point in a ~1 second interval. We can perform analysis involving averages, std devs etc on each \n",
    "of these groups and give them labels.\n",
    "If a treat was shown any time during the interval, it is labeled as treat. Otherwise we label it as no-treat\n",
    "\n",
    "Takes in a data tuple:\n",
    "data -> (y_channels, inds, t)\n",
    "\n",
    "y_channels -> [chan0, chan1, chan2, chan3, ...] Each chan is an array of voltages\n",
    "inds -> indicies of each data point. These are aligned with the values in each chan array and the t array\n",
    "t -> times of each data point\n",
    "'''\n",
    "def groupbyInterval(data, labels, interval):\n",
    "\t#data tuple (x,y,z). labels: datetimes. interval(ms): int\n",
    "\ty_channels,inds,t = data\n",
    "\tinterval_ms = timedelta(milliseconds=interval)\n",
    "\t\n",
    "\tsplit_inds = []\n",
    "\tcutoff_times = [t[0]+interval_ms]\n",
    "\tfor ind in range(t.shape[0]):\n",
    "\t\ttime = t[ind]\n",
    "\t\tif time >= cutoff_times[-1]:\n",
    "\t\t\tsplit_inds.append(ind)\n",
    "\t\t\tcutoff_times.append(cutoff_times[-1] + interval_ms)\n",
    "\t\n",
    "\tind_groups = np.split(inds, split_inds)\n",
    "\ty_channels_groups = np.split(y_channels, split_inds, axis=1)\n",
    "\tt_groups = np.split(t, split_inds)\n",
    "\n",
    "\t#find min group size\n",
    "\tmin_group_size = ind_groups[0].shape[0]\n",
    "\tcutinds = []\n",
    "\tfor i in range(len(split_inds)-1):\n",
    "\t\tif ind_groups[i].shape[0] < 150:\n",
    "\t\t\tcutinds.append(i)\n",
    "\t\telif ind_groups[i].shape[0] < min_group_size:\n",
    "\t\t\tmin_group_size = ind_groups[i].shape[0]\n",
    "\n",
    "\t#rectangularize jagged arrays\n",
    "\tfor i in range(len(split_inds)):\n",
    "\t\tind_groups[i] = ind_groups[i][:min_group_size]\n",
    "\t\ty_channels_groups[i] = y_channels_groups[i][:,:min_group_size]\n",
    "\n",
    "\t#drop short last group\n",
    "\tind_groups = [ind_groups[i] for i in range(len(ind_groups)) if i not in cutinds]\n",
    "\tind_groups = np.array(ind_groups[:-1])\n",
    "\ty_channels_groups = [y_channels_groups[i] for i in range(len(y_channels_groups)) if i not in cutinds]\n",
    "\ty_channels_groups = np.array(y_channels_groups[:-1]).transpose((1,0,2))\n",
    "\tt_groups = [t_groups[i] for i in range(len(t_groups)) if i not in cutinds]\n",
    "\tt_groups = np.array(t_groups[:-1])\n",
    "\n",
    "\tcutoff_times = [cutoff_times[i] for i in range(len(cutoff_times)) if i not in cutinds]\n",
    "\n",
    "\t#assign labels to groups\n",
    "\t# TODO: CHECK IF LABEL MATCHING IS CORRECT\n",
    "\tNO_TREAT = 0\n",
    "\tTREAT = 1\n",
    "\t\t\n",
    "\tl_groups = np.array([NO_TREAT] * ind_groups.shape[0])\n",
    "\t\n",
    "\tlnum=0\n",
    "\tfor ind in range(l_groups.shape[0]):\n",
    "\t\tif lnum==len(labels):\n",
    "\t\t\tbreak\n",
    "\n",
    "\t\tcutoff = cutoff_times[ind]\n",
    "\t\tstart = cutoff - interval_ms\n",
    "\t\tif labels[lnum][0] == TREAT and start <= labels[lnum+1][1] and labels[lnum][1] > cutoff:\n",
    "\t\t\tl_groups[ind] = TREAT\n",
    "\n",
    "\t\t\t\t\n",
    "\t\telse:\n",
    "\t\t\tlnum+=1\n",
    "\t\n",
    "\treturn y_channels_groups, ind_groups, t_groups, l_groups, y_channels"
   ]
  },
  {
   "cell_type": "code",
   "execution_count": 151,
   "metadata": {},
   "outputs": [
    {
     "data": {
      "text/plain": [
       "[(0, datetime.datetime(1900, 1, 1, 21, 18, 41, 836212)),\n",
       " (1, datetime.datetime(1900, 1, 1, 21, 19, 6, 835099)),\n",
       " (0, datetime.datetime(1900, 1, 1, 21, 19, 41, 1644)),\n",
       " (1, datetime.datetime(1900, 1, 1, 21, 20, 51, 171674)),\n",
       " (0, datetime.datetime(1900, 1, 1, 21, 21, 21, 781487)),\n",
       " (1, datetime.datetime(1900, 1, 1, 21, 22, 23, 77201)),\n",
       " (0, datetime.datetime(1900, 1, 1, 21, 22, 56, 229613)),\n",
       " (1, datetime.datetime(1900, 1, 1, 21, 24, 47, 402283)),\n",
       " (0, datetime.datetime(1900, 1, 1, 21, 25, 10, 884783)),\n",
       " (1, datetime.datetime(1900, 1, 1, 21, 26, 35, 633614)),\n",
       " (0, datetime.datetime(1900, 1, 1, 21, 27, 10, 442693)),\n",
       " (1, datetime.datetime(1900, 1, 1, 21, 29, 15, 142540)),\n",
       " (0, datetime.datetime(1900, 1, 1, 21, 29, 37, 448052)),\n",
       " (1, datetime.datetime(1900, 1, 1, 21, 30, 25, 456958)),\n",
       " (0, datetime.datetime(1900, 1, 1, 21, 31, 8, 826718)),\n",
       " (1, datetime.datetime(1900, 1, 1, 21, 32, 5, 879538)),\n",
       " (0, datetime.datetime(1900, 1, 1, 21, 32, 48, 841227)),\n",
       " (1, datetime.datetime(1900, 1, 1, 21, 34, 6, 79577)),\n",
       " (0, datetime.datetime(1900, 1, 1, 21, 34, 51, 911456)),\n",
       " (1, datetime.datetime(1900, 1, 1, 21, 37, 24, 99362)),\n",
       " (0, datetime.datetime(1900, 1, 1, 21, 38, 9, 409056))]"
      ]
     },
     "execution_count": 151,
     "metadata": {},
     "output_type": "execute_result"
    }
   ],
   "source": []
  },
  {
   "cell_type": "code",
   "execution_count": 155,
   "metadata": {},
   "outputs": [
    {
     "data": {
      "text/plain": [
       "array([[datetime.datetime(1900, 1, 1, 21, 18, 31, 414000)],\n",
       "       [datetime.datetime(1900, 1, 1, 21, 18, 32, 417000)],\n",
       "       [datetime.datetime(1900, 1, 1, 21, 18, 33, 422000)],\n",
       "       ...,\n",
       "       [datetime.datetime(1900, 1, 1, 21, 38, 41, 423000)],\n",
       "       [datetime.datetime(1900, 1, 1, 21, 38, 42, 430000)],\n",
       "       [datetime.datetime(1900, 1, 1, 21, 38, 43, 419000)]], dtype=object)"
      ]
     },
     "execution_count": 155,
     "metadata": {},
     "output_type": "execute_result"
    }
   ],
   "source": [
    "t_groups"
   ]
  },
  {
   "cell_type": "code",
   "execution_count": 163,
   "metadata": {},
   "outputs": [],
   "source": [
    "labels = []\n",
    "with open(\"data/cauchy/2022-03-30_Cauchy0/labels.txt\") as f:\n",
    "    lines = f.readlines()\n",
    "    for line in lines:\n",
    "        label, yr,mo,dy,hr,m,s,ns = scanf(\"(%d, datetime.datetime(%d, %d, %d, %d, %d, %d, %d)\", line)\n",
    "        labels.append((label, datetime(1900,1,1,hr,m,s,ns)))\n",
    "\n",
    "data = getData(\"data/cauchy/2022-03-30_Cauchy0/OpenBCI-RAW-2022-03-30_21-18-31.txt\", None, [3], None)\n"
   ]
  },
  {
   "cell_type": "code",
   "execution_count": 259,
   "metadata": {},
   "outputs": [],
   "source": [
    "y_channels_groups, ind_groups, t_groups, l_groups, y_channels = groupbyInterval(data, labels, 1000)"
   ]
  },
  {
   "cell_type": "code",
   "execution_count": 294,
   "metadata": {},
   "outputs": [],
   "source": [
    "train_inds, test_inds = train_test_split(np.arange(ind_groups.shape[0]), test_size=.2)\n",
    "\n",
    "trainX = y_channels_groups[:, train_inds, :].reshape((904,191))\n",
    "trainL = l_groups[train_inds]\n",
    "testX = y_channels_groups[:, test_inds, :].reshape((226,191))\n",
    "testL = l_groups[test_inds]\n"
   ]
  },
  {
   "cell_type": "code",
   "execution_count": 296,
   "metadata": {},
   "outputs": [],
   "source": [
    "train_means = trainX.mean(axis=1)\n",
    "train_stdevs = trainX.std(axis=1)\n",
    "\n",
    "test_means = testX.mean(axis=1)\n",
    "test_stdevs = testX.std(axis=1)"
   ]
  },
  {
   "cell_type": "code",
   "execution_count": 300,
   "metadata": {},
   "outputs": [
    {
     "data": {
      "text/plain": [
       "KNeighborsClassifier(n_neighbors=3)"
      ]
     },
     "execution_count": 300,
     "metadata": {},
     "output_type": "execute_result"
    }
   ],
   "source": [
    "knn = KNeighborsClassifier(3)\n",
    "train_all = np.array([train_means, train_stdevs]).T\n",
    "knn.fit(train_all, trainL)"
   ]
  },
  {
   "cell_type": "code",
   "execution_count": 304,
   "metadata": {},
   "outputs": [
    {
     "data": {
      "text/plain": [
       "array([[ 12,   9],\n",
       "       [  4, 201]])"
      ]
     },
     "execution_count": 304,
     "metadata": {},
     "output_type": "execute_result"
    }
   ],
   "source": [
    "test_all = np.array([test_means, test_stdevs]).T\n",
    "test_predict = knn.predict(test_all)\n",
    "confusion_matrix(testL, test_predict)"
   ]
  },
  {
   "cell_type": "code",
   "execution_count": 310,
   "metadata": {},
   "outputs": [
    {
     "data": {
      "text/plain": [
       "<sklearn.metrics._plot.confusion_matrix.ConfusionMatrixDisplay at 0x7f88b0371f40>"
      ]
     },
     "execution_count": 310,
     "metadata": {},
     "output_type": "execute_result"
    },
    {
     "data": {
      "image/png": "[encoded data removed]",
      "text/plain": [
       "<Figure size 432x288 with 2 Axes>"
      ]
     },
     "metadata": {
      "needs_background": "light"
     },
     "output_type": "display_data"
    }
   ],
   "source": [
    "ConfusionMatrixDisplay.from_predictions(testL, test_predict, normalize=\"pred\")"
   ]
  },
  {
   "cell_type": "code",
   "execution_count": null,
   "metadata": {},
   "outputs": [],
   "source": []
  }
 ],
 "metadata": {
  "interpreter": {
   "hash": "bf6897e38478e00c3abd7f9cbfd68b1cc86dadfcdbd2db954878998d826593d9"
  },
  "kernelspec": {
   "display_name": "Python 3.8.12 ('atd')",
   "language": "python",
   "name": "python3"
  },
  "language_info": {
   "codemirror_mode": {
    "name": "ipython",
    "version": 3
   },
   "file_extension": ".py",
   "mimetype": "text/x-python",
   "name": "python",
   "nbconvert_exporter": "python",
   "pygments_lexer": "ipython3",
   "version": "3.8.12"
  },
  "orig_nbformat": 4
 },
 "nbformat": 4,
 "nbformat_minor": 2
}
